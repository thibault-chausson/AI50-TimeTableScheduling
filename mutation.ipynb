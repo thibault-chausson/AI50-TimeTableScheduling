{
 "cells": [
  {
   "cell_type": "markdown",
   "metadata": {},
   "source": [
    "Fonctions de mutations : \n",
    "\n",
    "- mutation_permutation : Echanger les créneaux horaires entre deux cours \n",
    "- mutation_deplacement : Déplacer un cours vers un autre créneau/salle\n"
   ]
  },
  {
   "cell_type": "code",
   "execution_count": 1,
   "metadata": {},
   "outputs": [
    {
     "name": "stdout",
     "output_type": "stream",
     "text": [
      "Mardi 17h\n",
      "D422\n",
      "[{'Classroom': 'D422', 'Start Time': 'Vendredi 13h', 'Duration': '2', 'Teacher': 'Leclerc', 'UV': 'JW72', 'Type': 'CM'}, {'Classroom': 'G406', 'Start Time': 'Jeudi 15h', 'Duration': '2', 'Teacher': 'Leclerc', 'UV': 'JW72', 'Type': 'TD'}, {'Classroom': 'P223', 'Start Time': 'Vendredi 19h', 'Duration': '1', 'Teacher': 'Leclerc', 'UV': 'JW72', 'Type': 'TP'}, {'Classroom': 'D422', 'Start Time': 'Mercredi 13h', 'Duration': '2', 'Teacher': 'Leclerc', 'UV': 'IY62', 'Type': 'CM'}, {'Classroom': 'H440', 'Start Time': 'Mardi 19h', 'Duration': '2', 'Teacher': 'None', 'UV': 'BS16', 'Type': 'CM'}, {'Classroom': 'F186', 'Start Time': 'Mercredi 10h', 'Duration': '2', 'Teacher': 'None', 'UV': 'BS16', 'Type': 'TP'}, {'Classroom': 'H440', 'Start Time': 'Vendredi 16h', 'Duration': '2', 'Teacher': 'Leclerc', 'UV': 'YX15', 'Type': 'CM'}, {'Classroom': 'G406', 'Start Time': 'Jeudi 12h', 'Duration': '2', 'Teacher': 'King', 'UV': 'VP19', 'Type': 'CM'}, {'Classroom': 'D422', 'Start Time': 'Vendredi 10h', 'Duration': '2', 'Teacher': 'King', 'UV': 'VP19', 'Type': 'TD'}, {'Classroom': 'Z130', 'Start Time': 'Vendredi 8h', 'Duration': '2', 'Teacher': 'King', 'UV': 'VP19', 'Type': 'TP'}, {'Classroom': 'G406', 'Start Time': 'Samedi 10h', 'Duration': '2', 'Teacher': 'None', 'UV': 'WU23', 'Type': 'CM'}, {'Classroom': 'E349', 'Start Time': 'Mardi 17h', 'Duration': '1', 'Teacher': 'Wood', 'UV': 'XN91', 'Type': 'CM'}, {'Classroom': 'Z130', 'Start Time': 'Lundi 19h', 'Duration': '1', 'Teacher': 'Wood', 'UV': 'XN91', 'Type': 'TP'}, {'Classroom': 'H440', 'Start Time': 'Jeudi 8h', 'Duration': '1', 'Teacher': 'Flores', 'UV': 'NP57', 'Type': 'CM'}, {'Classroom': 'G406', 'Start Time': 'Samedi 19h', 'Duration': '2', 'Teacher': 'Flores', 'UV': 'NP57', 'Type': 'TD'}, {'Classroom': 'F186', 'Start Time': 'Mardi 9h', 'Duration': '3', 'Teacher': 'Flores', 'UV': 'NP57', 'Type': 'TP'}, {'Classroom': 'H299', 'Start Time': 'Lundi 18h', 'Duration': '2', 'Teacher': 'Marie', 'UV': 'RB92', 'Type': 'CM'}, {'Classroom': 'H440', 'Start Time': 'Mercredi 18h', 'Duration': '2', 'Teacher': 'Marie', 'UV': 'RB92', 'Type': 'TD'}, {'Classroom': 'Z130', 'Start Time': 'Jeudi 14h', 'Duration': '2', 'Teacher': 'Marie', 'UV': 'RB92', 'Type': 'TP'}, {'Classroom': 'G406', 'Start Time': 'Jeudi 14h', 'Duration': '1', 'Teacher': 'Morgan', 'UV': 'DF63', 'Type': 'CM'}, {'Classroom': 'F186', 'Start Time': 'Samedi 10h', 'Duration': '2', 'Teacher': 'Morgan', 'UV': 'DF63', 'Type': 'TP'}]\n",
      "   Classroom    Start Time  Duration  Teacher    UV Type  Start Time Numeric\n",
      "16      H299     Lundi 18h         2    Marie  RB92   CM                 118\n",
      "12      Z130     Lundi 19h         1     Wood  XN91   TP                 119\n",
      "15      F186      Mardi 9h         3   Flores  NP57   TP                 209\n",
      "11      E349     Mardi 17h         1     Wood  XN91   CM                 217\n",
      "4       H440     Mardi 19h         2      NaN  BS16   CM                 219\n",
      "5       F186  Mercredi 10h         2      NaN  BS16   TP                 310\n",
      "3       D422  Mercredi 13h         2  Leclerc  IY62   CM                 313\n",
      "17      H440  Mercredi 18h         2    Marie  RB92   TD                 318\n",
      "13      H440      Jeudi 8h         1   Flores  NP57   CM                 408\n",
      "7       G406     Jeudi 12h         2     King  VP19   CM                 412\n",
      "18      Z130     Jeudi 14h         2    Marie  RB92   TP                 414\n",
      "19      G406     Jeudi 14h         1   Morgan  DF63   CM                 414\n",
      "1       G406     Jeudi 15h         2  Leclerc  JW72   TD                 415\n",
      "9       Z130   Vendredi 8h         2     King  VP19   TP                 508\n",
      "8       D422  Vendredi 10h         2     King  VP19   TD                 510\n",
      "0       D422  Vendredi 13h         2  Leclerc  JW72   CM                 513\n",
      "6       H440  Vendredi 16h         2  Leclerc  YX15   CM                 516\n",
      "2       P223  Vendredi 19h         1  Leclerc  JW72   TP                 519\n",
      "10      G406    Samedi 10h         2      NaN  WU23   CM                 610\n",
      "20      F186    Samedi 10h         2   Morgan  DF63   TP                 610\n",
      "14      G406    Samedi 19h         2   Flores  NP57   TD                 619\n"
     ]
    }
   ],
   "source": [
    "%run generateurAleatoire.ipynb\n",
    "import numpy as np\n",
    "\n",
    "def mutation_permutation(nom_fichier):\n",
    "    # Load the CSV file into a DataFrame\n",
    "    df = pd.read_csv(nom_fichier)\n",
    "\n",
    "    # Select two random row indices\n",
    "    random_rows = df.sample(n=2).index\n",
    "    \n",
    "    \"\"\"\n",
    "    # While \"Duration\" of the selected rows are not the same\n",
    "    while df.loc[random_rows[0], 'Duration'] != df.loc[random_rows[1], 'Duration']:\n",
    "        random_rows = df.sample(n=2).index\n",
    "    \"\"\"\n",
    "\n",
    "    # Swap values between the selected rows for \"Start Time,\" \"Duration,\" and \"Start Time Numeric\"\n",
    "    temp_start_time = df.loc[random_rows[0], 'Start Time']\n",
    "    df.loc[random_rows[0], 'Start Time'] = df.loc[random_rows[1], 'Start Time']\n",
    "    df.loc[random_rows[1], 'Start Time'] = temp_start_time\n",
    "\n",
    "    \"\"\"\n",
    "    temp_duration = df.loc[random_rows[0], 'Duration']\n",
    "    df.loc[random_rows[0], 'Duration'] = df.loc[random_rows[1], 'Duration']\n",
    "    df.loc[random_rows[1], 'Duration'] = temp_duration\n",
    "    \"\"\"\n",
    "    \n",
    "    temp_start_time_numeric = df.loc[random_rows[0], 'Start Time Numeric']\n",
    "    df.loc[random_rows[0], 'Start Time Numeric'] = df.loc[random_rows[1], 'Start Time Numeric']\n",
    "    df.loc[random_rows[1], 'Start Time Numeric'] = temp_start_time_numeric\n",
    "\n",
    "    # Save the modified DataFrame to a new CSV file\n",
    "    df.to_csv('exemplesEDT/schedule_muted.csv', index=False)\n",
    "\n",
    "def mutation_deplacement(nom_fichier):\n",
    "    # Load the CSV file into a DataFrame\n",
    "    df = pd.read_csv(nom_fichier)\n",
    "\n",
    "    # Select one random row indice\n",
    "    random_row = np.random.randint(0, len(df))\n",
    "\n",
    "    df.loc[random_row, 'Start Time'] = create_start_time()\n",
    "    df.loc[random_row, 'Start Time Numeric'] = convert_day_time(df.loc[random_row, 'Start Time'])\n",
    "\n",
    "    df.to_csv('exemplesEDT/schedule_muted_2.csv', index=False)\n",
    "\n",
    "mutation_permutation('exemplesEDT/schedule_sorted.csv')\n",
    "mutation_deplacement('exemplesEDT/schedule_sorted.csv')\n"
   ]
  }
 ],
 "metadata": {
  "kernelspec": {
   "display_name": "Python 3",
   "language": "python",
   "name": "python3"
  },
  "language_info": {
   "codemirror_mode": {
    "name": "ipython",
    "version": 3
   },
   "file_extension": ".py",
   "mimetype": "text/x-python",
   "name": "python",
   "nbconvert_exporter": "python",
   "pygments_lexer": "ipython3",
   "version": "3.10.4"
  }
 },
 "nbformat": 4,
 "nbformat_minor": 2
}
