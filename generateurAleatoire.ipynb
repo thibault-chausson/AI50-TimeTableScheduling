{
 "cells": [
  {
   "cell_type": "markdown",
   "source": [
    "# Générateur d'emploi du temps \n",
    "\n",
    "Pour avoir un exemple sur le quel travailler, on va utiliser un générateur d'emploi du temps."
   ],
   "metadata": {
    "collapsed": false
   },
   "id": "f91dc42cc87fc4fc"
  },
  {
   "cell_type": "code",
   "execution_count": 16,
   "outputs": [],
   "source": [
    "import os\n",
    "import random\n",
    "import string\n",
    "import csv"
   ],
   "metadata": {
    "collapsed": false,
    "ExecuteTime": {
     "end_time": "2023-11-21T08:28:03.580157Z",
     "start_time": "2023-11-21T08:28:03.563635Z"
    }
   },
   "id": "a03401f77bb955a6"
  },
  {
   "cell_type": "markdown",
   "source": [
    "## Générateur de salles de classes\n",
    "\n",
    "- numéro de sale \n",
    "- capacité \n",
    "- type de salle (CM, TP, TD, etc.)"
   ],
   "metadata": {
    "collapsed": false
   },
   "id": "1f87393b0f02889d"
  },
  {
   "cell_type": "code",
   "execution_count": 17,
   "outputs": [],
   "source": [
    "def generer_salles(n):\n",
    "    salles = {}\n",
    "    while len(salles) < n:\n",
    "        numero_salle = random.choice(string.ascii_uppercase) + str(random.randint(100, 500))\n",
    "        if numero_salle not in salles:\n",
    "            capacite = random.randint(20, 60)\n",
    "            type_salle = random.choice([\"CM\", \"TP\"])\n",
    "            salles[numero_salle] = {\"capacite\": capacite, \"type\": type_salle}\n",
    "    \n",
    "    return salles\n",
    "\n",
    "def enregistrer_csv(salles, chemin_dossier, nom_fichier):\n",
    "    # Créer le dossier s'il n'existe pas\n",
    "    os.makedirs(chemin_dossier, exist_ok=True)\n",
    "\n",
    "    chemin_complet = os.path.join(chemin_dossier, nom_fichier)\n",
    "    with open(chemin_complet, mode='w', newline='', encoding='utf-8') as fichier:\n",
    "        ecrivain = csv.writer(fichier)\n",
    "        ecrivain.writerow([\"ID\", \"Numéro de Salle\", \"Capacité\", \"Type\"])\n",
    "        k = 0\n",
    "        for salle, infos in salles.items():\n",
    "            k += 1\n",
    "            ecrivain.writerow([k, salle, infos['capacite'], infos['type']])\n",
    "\n",
    "# Générer les salles\n",
    "n_salles = 10\n",
    "salles_generees = generer_salles(n_salles)\n",
    "\n",
    "# Nom du dossier et du fichier CSV\n",
    "dossier = \"exemplesEDT\"\n",
    "nom_fichier_csv = \"salles.csv\"\n",
    "\n",
    "# Enregistrer dans un fichier CSV\n",
    "enregistrer_csv(salles_generees, dossier, nom_fichier_csv)"
   ],
   "metadata": {
    "collapsed": false,
    "ExecuteTime": {
     "end_time": "2023-11-21T08:28:03.580728Z",
     "start_time": "2023-11-21T08:28:03.570015Z"
    }
   },
   "id": "3690d1b6933e947b"
  },
  {
   "cell_type": "markdown",
   "source": [
    "## Générateur de professeurs\n",
    "\n",
    "- nom\n",
    "- domaine (informatique, mathématiques, etc.)"
   ],
   "metadata": {
    "collapsed": false
   },
   "id": "9c79499f274377c0"
  },
  {
   "cell_type": "code",
   "execution_count": 18,
   "outputs": [],
   "source": [
    "def generer_professeurs(n):\n",
    "    noms = [\n",
    "    \"Martin\", \"Bernard\", \"Dubois\", \"Thomas\", \"Robert\", \"Richard\", \"Petit\",\n",
    "    \"Durand\", \"Leroy\", \"Moreau\", \"Simon\", \"Laurent\", \"Lefebvre\", \"Michel\",\n",
    "    \"Garcia\", \"David\", \"Bertrand\", \"Roux\", \"Vincent\", \"Fournier\", \"Morel\",\n",
    "    \"Girard\", \"Andre\", \"Lefevre\", \"Mercier\", \"Dupont\", \"Lambert\", \"Bonnet\",\n",
    "    \"Francois\", \"Martinez\", \"Legrand\", \"Garnier\", \"Faure\", \"Rousseau\",\n",
    "    \"Blanc\", \"Guerin\", \"Muller\", \"Henry\", \"Roussel\", \"Nicolas\", \"Perrin\",\n",
    "    \"Morin\", \"Mathieu\", \"Clement\", \"Gauthier\", \"Dumont\", \"Lopez\", \"Fontaine\",\n",
    "    \"Chevalier\", \"Robin\", \"Masson\", \"Sanchez\", \"Gerard\", \"Nguyen\", \"Boyer\",\n",
    "    \"Denis\", \"Lemaire\", \"Duval\", \"Joly\", \"Gautier\", \"Roger\", \"Roche\",\n",
    "    \"Roy\", \"Colin\", \"Carpentier\", \"Vidal\", \"Picard\", \"Rolland\", \"Aubert\",\n",
    "    \"Giraud\", \"Leclerc\", \"Vasseur\", \"Lemoine\", \"Hebert\", \"Perron\", \"Boucher\",\n",
    "    \"Perez\", \"Marchand\", \"Dufour\", \"Blanchard\", \"Marie\", \"Barbier\", \"Brun\",\n",
    "    \"Dumas\", \"Brunet\", \"Schmitt\", \"Leroux\", \"Collet\", \"Leveque\", \"Perrot\",\n",
    "    \"Daniel\", \"Cousin\", \"Richardson\", \"Smith\", \"Johnson\", \"Williams\", \"Jones\",\n",
    "    \"Brown\", \"Davis\", \"Miller\", \"Wilson\", \"Moore\", \"Taylor\", \"Anderson\",\n",
    "    \"Thomas\", \"Jackson\", \"White\", \"Harris\", \"Martin\", \"Thompson\", \"Garcia\",\n",
    "    \"Martinez\", \"Robinson\", \"Clark\", \"Rodriguez\", \"Lewis\", \"Lee\", \"Walker\",\n",
    "    \"Hall\", \"Allen\", \"Young\", \"Hernandez\", \"King\", \"Wright\", \"Lopez\",\n",
    "    \"Hill\", \"Scott\", \"Green\", \"Adams\", \"Baker\", \"Gonzalez\", \"Nelson\",\n",
    "    \"Carter\", \"Mitchell\", \"Perez\", \"Roberts\", \"Turner\", \"Phillips\", \"Campbell\",\n",
    "    \"Parker\", \"Evans\", \"Edwards\", \"Collins\", \"Stewart\", \"Sanchez\", \"Morris\",\n",
    "    \"Rogers\", \"Reed\", \"Cook\", \"Morgan\", \"Bell\", \"Murphy\", \"Bailey\", \"Rivera\",\n",
    "    \"Cooper\", \"Richardson\", \"Cox\", \"Howard\", \"Ward\", \"Torres\", \"Peterson\",\n",
    "    \"Gray\", \"Ramirez\", \"James\", \"Watson\", \"Brooks\", \"Kelly\", \"Sanders\", \"Price\",\n",
    "    \"Bennett\", \"Wood\", \"Barnes\", \"Ross\", \"Henderson\", \"Coleman\", \"Jenkins\",\n",
    "    \"Perry\", \"Powell\", \"Long\", \"Patterson\", \"Hughes\", \"Flores\", \"Washington\",\n",
    "    \"Butler\", \"Simmons\", \"Foster\", \"Gonzales\", \"Bryant\", \"Alexander\", \"Russell\",\n",
    "    \"Griffin\", \"Diaz\", \"Hayes\"\n",
    "]\n",
    "    domaines = [\"Informatique\", \"Mathématiques\", \"Physique\", \"Chimie\", \"Histoire\", \"Biologie\", \"Français\", \"Anglais\", \"Allemand\", \"Espagnol\"]\n",
    "\n",
    "    professeurs = []\n",
    "    for _ in range(n):\n",
    "        nom = random.choice(noms)\n",
    "        domaine = random.choice(domaines)\n",
    "        professeurs.append({\"nom\": nom, \"domaine\": domaine})\n",
    "    \n",
    "    return professeurs\n",
    "\n",
    "def enregistrer_csv_professeurs(professeurs, chemin_dossier, nom_fichier):\n",
    "    os.makedirs(chemin_dossier, exist_ok=True)\n",
    "    chemin_complet = os.path.join(chemin_dossier, nom_fichier)\n",
    "    with open(chemin_complet, mode='w', newline='', encoding='utf-8') as fichier:\n",
    "        ecrivain = csv.writer(fichier)\n",
    "        ecrivain.writerow([\"ID\", \"Nom\", \"Domaine\"])\n",
    "        k = 0\n",
    "        for prof in professeurs:\n",
    "            k += 1\n",
    "            ecrivain.writerow([k, prof[\"nom\"], prof[\"domaine\"]])\n",
    "\n",
    "# Générer les professeurs\n",
    "n_professeurs = 10\n",
    "professeurs_generees = generer_professeurs(n_professeurs)\n",
    "\n",
    "# Enregistrer dans un fichier CSV\n",
    "dossier = \"exemplesEDT\"\n",
    "nom_fichier_csv_prof = \"professeurs.csv\"\n",
    "enregistrer_csv_professeurs(professeurs_generees, dossier, nom_fichier_csv_prof)\n"
   ],
   "metadata": {
    "collapsed": false,
    "ExecuteTime": {
     "end_time": "2023-11-21T08:28:03.593927Z",
     "start_time": "2023-11-21T08:28:03.578525Z"
    }
   },
   "id": "4345c808985a2f99"
  },
  {
   "cell_type": "markdown",
   "source": [
    "## Générateur de matières\n",
    "\n",
    "Avec son nom LettreLettreChiffreChiffre, le domaine, l'ID du professeur, la durée d'un CM entre 1 et 2, la durée d'un TD entre 0 et 2, la durée d'un TP entre 0 et 3\n",
    "\n",
    "Le domaine peut etre [\"Informatique\", \"Mathématiques\", \"Physique\", \"Chimie\", \"Histoire\", \"Biologie\", \"Français\", \"Anglais\", \"Allemand\", \"Espagnol\"] et il doit corresponde à un professeur du fichier professeur s'il aucun prof correspond on met none "
   ],
   "metadata": {
    "collapsed": false
   },
   "id": "135002bda7d6e224"
  },
  {
   "cell_type": "code",
   "execution_count": 19,
   "outputs": [],
   "source": [
    "def lire_professeurs(fichier_csv):\n",
    "    professeurs = []\n",
    "    with open(fichier_csv, mode='r', encoding='utf-8') as fichier:\n",
    "        lecteur = csv.DictReader(fichier)\n",
    "        for ligne in lecteur:\n",
    "            professeurs.append(ligne)\n",
    "    return professeurs\n",
    "\n",
    "def trouver_professeur(domaine, professeurs):\n",
    "    profs_domaine = [prof for prof in professeurs if prof['Domaine'] == domaine]\n",
    "    return random.choice(profs_domaine)['Nom'] if profs_domaine else \"None\"\n",
    "\n",
    "def generer_uvs(n, professeurs):\n",
    "    domaines = [\"Informatique\", \"Mathématiques\", \"Physique\", \"Chimie\", \"Histoire\", \"Biologie\", \"Français\", \"Anglais\", \"Allemand\", \"Espagnol\"]\n",
    "    uvs = []\n",
    "    for _ in range(n):\n",
    "        nom_uv = random.choice(string.ascii_uppercase) + random.choice(string.ascii_uppercase) + str(random.randint(10, 99))\n",
    "        domaine = random.choice(domaines)\n",
    "        id_prof = trouver_professeur(domaine, professeurs)\n",
    "        duree_cm = random.randint(1, 2)\n",
    "        duree_td = random.randint(0, 2)\n",
    "        duree_tp = random.randint(0, 3)\n",
    "        uvs.append({\"nom\": nom_uv, \"domaine\": domaine, \"id_prof\": id_prof, \"duree_cm\": duree_cm, \"duree_td\": duree_td, \"duree_tp\": duree_tp})\n",
    "    return uvs\n",
    "\n",
    "# Chemin vers le fichier CSV des professeurs\n",
    "fichier_csv_prof = \"exemplesEDT/professeurs.csv\"\n",
    "\n",
    "# Lire les données des professeurs\n",
    "professeurs = lire_professeurs(fichier_csv_prof)\n",
    "\n",
    "# Générer les UVs\n",
    "n_uvs = 10  # Nombre d'UVs à générer\n",
    "uvs_generees = generer_uvs(n_uvs, professeurs)\n",
    "\n",
    "# Afficher les UVs générées (ou les enregistrer dans un fichier CSV si nécessaire)\n",
    "#for uv in uvs_generees:\n",
    "#    print(uv)\n",
    "    \n",
    "def enregistrer_csv_uvs(uvs, chemin_dossier, nom_fichier):\n",
    "    os.makedirs(chemin_dossier, exist_ok=True)\n",
    "    chemin_complet = os.path.join(chemin_dossier, nom_fichier)\n",
    "    with open(chemin_complet, mode='w', newline='', encoding='utf-8') as fichier:\n",
    "        ecrivain = csv.writer(fichier)\n",
    "        ecrivain.writerow([\"ID\", \"Nom\", \"Domaine\", \"ID Professeur\", \"Durée CM\", \"Durée TD\", \"Durée TP\"])\n",
    "        k = 0\n",
    "        for uv in uvs:\n",
    "            k += 1\n",
    "            ecrivain.writerow([k, uv[\"nom\"], uv[\"domaine\"], uv[\"id_prof\"], uv[\"duree_cm\"], uv[\"duree_td\"], uv[\"duree_tp\"]])\n",
    "\n",
    "# Nom du dossier et du fichier CSV\n",
    "dossier = \"exemplesEDT\"\n",
    "nom_fichier_csv = \"uvs.csv\"\n",
    "\n",
    "# Enregistrer dans un fichier CSV\n",
    "enregistrer_csv_uvs(uvs_generees, dossier, nom_fichier_csv)"
   ],
   "metadata": {
    "collapsed": false,
    "ExecuteTime": {
     "end_time": "2023-11-21T08:28:03.594472Z",
     "start_time": "2023-11-21T08:28:03.586123Z"
    }
   },
   "id": "dfb6befb2866274b"
  },
  {
   "cell_type": "code",
   "execution_count": 19,
   "outputs": [],
   "source": [],
   "metadata": {
    "collapsed": false,
    "ExecuteTime": {
     "end_time": "2023-11-21T08:28:03.595957Z",
     "start_time": "2023-11-21T08:28:03.589054Z"
    }
   },
   "id": "fb375b2f9417cdef"
  }
 ],
 "metadata": {
  "kernelspec": {
   "display_name": "Python 3",
   "language": "python",
   "name": "python3"
  },
  "language_info": {
   "codemirror_mode": {
    "name": "ipython",
    "version": 2
   },
   "file_extension": ".py",
   "mimetype": "text/x-python",
   "name": "python",
   "nbconvert_exporter": "python",
   "pygments_lexer": "ipython2",
   "version": "2.7.6"
  }
 },
 "nbformat": 4,
 "nbformat_minor": 5
}
