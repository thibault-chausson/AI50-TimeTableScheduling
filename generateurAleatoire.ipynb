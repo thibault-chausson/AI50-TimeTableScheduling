{
 "cells": [
  {
   "cell_type": "markdown",
   "source": [
    "# Générateur d'emploi du temps \n",
    "\n",
    "Pour avoir un exemple sur le quel travailler, on va utiliser un générateur d'emploi du temps."
   ],
   "metadata": {
    "collapsed": false
   },
   "id": "f91dc42cc87fc4fc"
  },
  {
   "cell_type": "code",
   "execution_count": 1,
   "outputs": [],
   "source": [
    "import os\n",
    "import random\n",
    "import string\n",
    "import csv\n",
    "import pandas as pd"
   ],
   "metadata": {
    "collapsed": false,
    "ExecuteTime": {
     "end_time": "2023-11-21T13:21:39.564596Z",
     "start_time": "2023-11-21T13:21:38.859612Z"
    }
   },
   "id": "a03401f77bb955a6"
  },
  {
   "cell_type": "markdown",
   "source": [
    "## Générateur de salles de classes\n",
    "\n",
    "- numéro de sale \n",
    "- capacité \n",
    "- type de salle (CM, TP, TD, etc.)"
   ],
   "metadata": {
    "collapsed": false
   },
   "id": "1f87393b0f02889d"
  },
  {
   "cell_type": "code",
   "execution_count": 2,
   "outputs": [],
   "source": [
    "def generer_salles(n):\n",
    "    salles = {}\n",
    "    while len(salles) < n:\n",
    "        numero_salle = random.choice(string.ascii_uppercase) + str(random.randint(100, 500))\n",
    "        if numero_salle not in salles:\n",
    "            capacite = random.randint(20, 60)\n",
    "            type_salle = random.choice([\"CM\", \"TP\"])\n",
    "            salles[numero_salle] = {\"capacite\": capacite, \"type\": type_salle}\n",
    "\n",
    "    return salles\n",
    "\n",
    "\n",
    "def enregistrer_csv(salles, chemin_dossier, nom_fichier):\n",
    "    # Créer le dossier s'il n'existe pas\n",
    "    os.makedirs(chemin_dossier, exist_ok=True)\n",
    "\n",
    "    chemin_complet = os.path.join(chemin_dossier, nom_fichier)\n",
    "    with open(chemin_complet, mode='w', newline='', encoding='utf-8') as fichier:\n",
    "        ecrivain = csv.writer(fichier)\n",
    "        ecrivain.writerow([\"ID\", \"Numéro de Salle\", \"Capacité\", \"Type\"])\n",
    "        k = 0\n",
    "        for salle, infos in salles.items():\n",
    "            k += 1\n",
    "            ecrivain.writerow([k, salle, infos['capacite'], infos['type']])\n",
    "\n",
    "\n",
    "# Générer les salles\n",
    "n_salles = 10\n",
    "salles_generees = generer_salles(n_salles)\n",
    "\n",
    "# Nom du dossier et du fichier CSV\n",
    "dossier = \"exemplesEDT\"\n",
    "nom_fichier_csv = \"salles.csv\"\n",
    "\n",
    "# Enregistrer dans un fichier CSV\n",
    "enregistrer_csv(salles_generees, dossier, nom_fichier_csv)"
   ],
   "metadata": {
    "collapsed": false,
    "ExecuteTime": {
     "end_time": "2023-11-21T13:21:39.581422Z",
     "start_time": "2023-11-21T13:21:39.567541Z"
    }
   },
   "id": "3690d1b6933e947b"
  },
  {
   "cell_type": "markdown",
   "source": [
    "## Générateur de professeurs\n",
    "\n",
    "- nom\n",
    "- domaine (informatique, mathématiques, etc.)"
   ],
   "metadata": {
    "collapsed": false
   },
   "id": "9c79499f274377c0"
  },
  {
   "cell_type": "code",
   "execution_count": 3,
   "outputs": [],
   "source": [
    "def generer_professeurs(n):\n",
    "    noms = [\n",
    "        \"Martin\", \"Bernard\", \"Dubois\", \"Thomas\", \"Robert\", \"Richard\", \"Petit\",\n",
    "        \"Durand\", \"Leroy\", \"Moreau\", \"Simon\", \"Laurent\", \"Lefebvre\", \"Michel\",\n",
    "        \"Garcia\", \"David\", \"Bertrand\", \"Roux\", \"Vincent\", \"Fournier\", \"Morel\",\n",
    "        \"Girard\", \"Andre\", \"Lefevre\", \"Mercier\", \"Dupont\", \"Lambert\", \"Bonnet\",\n",
    "        \"Francois\", \"Martinez\", \"Legrand\", \"Garnier\", \"Faure\", \"Rousseau\",\n",
    "        \"Blanc\", \"Guerin\", \"Muller\", \"Henry\", \"Roussel\", \"Nicolas\", \"Perrin\",\n",
    "        \"Morin\", \"Mathieu\", \"Clement\", \"Gauthier\", \"Dumont\", \"Lopez\", \"Fontaine\",\n",
    "        \"Chevalier\", \"Robin\", \"Masson\", \"Sanchez\", \"Gerard\", \"Nguyen\", \"Boyer\",\n",
    "        \"Denis\", \"Lemaire\", \"Duval\", \"Joly\", \"Gautier\", \"Roger\", \"Roche\",\n",
    "        \"Roy\", \"Colin\", \"Carpentier\", \"Vidal\", \"Picard\", \"Rolland\", \"Aubert\",\n",
    "        \"Giraud\", \"Leclerc\", \"Vasseur\", \"Lemoine\", \"Hebert\", \"Perron\", \"Boucher\",\n",
    "        \"Perez\", \"Marchand\", \"Dufour\", \"Blanchard\", \"Marie\", \"Barbier\", \"Brun\",\n",
    "        \"Dumas\", \"Brunet\", \"Schmitt\", \"Leroux\", \"Collet\", \"Leveque\", \"Perrot\",\n",
    "        \"Daniel\", \"Cousin\", \"Richardson\", \"Smith\", \"Johnson\", \"Williams\", \"Jones\",\n",
    "        \"Brown\", \"Davis\", \"Miller\", \"Wilson\", \"Moore\", \"Taylor\", \"Anderson\",\n",
    "        \"Thomas\", \"Jackson\", \"White\", \"Harris\", \"Martin\", \"Thompson\", \"Garcia\",\n",
    "        \"Martinez\", \"Robinson\", \"Clark\", \"Rodriguez\", \"Lewis\", \"Lee\", \"Walker\",\n",
    "        \"Hall\", \"Allen\", \"Young\", \"Hernandez\", \"King\", \"Wright\", \"Lopez\",\n",
    "        \"Hill\", \"Scott\", \"Green\", \"Adams\", \"Baker\", \"Gonzalez\", \"Nelson\",\n",
    "        \"Carter\", \"Mitchell\", \"Perez\", \"Roberts\", \"Turner\", \"Phillips\", \"Campbell\",\n",
    "        \"Parker\", \"Evans\", \"Edwards\", \"Collins\", \"Stewart\", \"Sanchez\", \"Morris\",\n",
    "        \"Rogers\", \"Reed\", \"Cook\", \"Morgan\", \"Bell\", \"Murphy\", \"Bailey\", \"Rivera\",\n",
    "        \"Cooper\", \"Richardson\", \"Cox\", \"Howard\", \"Ward\", \"Torres\", \"Peterson\",\n",
    "        \"Gray\", \"Ramirez\", \"James\", \"Watson\", \"Brooks\", \"Kelly\", \"Sanders\", \"Price\",\n",
    "        \"Bennett\", \"Wood\", \"Barnes\", \"Ross\", \"Henderson\", \"Coleman\", \"Jenkins\",\n",
    "        \"Perry\", \"Powell\", \"Long\", \"Patterson\", \"Hughes\", \"Flores\", \"Washington\",\n",
    "        \"Butler\", \"Simmons\", \"Foster\", \"Gonzales\", \"Bryant\", \"Alexander\", \"Russell\",\n",
    "        \"Griffin\", \"Diaz\", \"Hayes\"\n",
    "    ]\n",
    "    domaines = [\"Informatique\", \"Mathématiques\", \"Physique\", \"Chimie\", \"Histoire\", \"Biologie\", \"Français\", \"Anglais\",\n",
    "                \"Allemand\", \"Espagnol\"]\n",
    "\n",
    "    professeurs = []\n",
    "    for _ in range(n):\n",
    "        nom = random.choice(noms)\n",
    "        domaine = random.choice(domaines)\n",
    "        professeurs.append({\"nom\": nom, \"domaine\": domaine})\n",
    "\n",
    "    return professeurs\n",
    "\n",
    "\n",
    "def enregistrer_csv_professeurs(professeurs, chemin_dossier, nom_fichier):\n",
    "    os.makedirs(chemin_dossier, exist_ok=True)\n",
    "    chemin_complet = os.path.join(chemin_dossier, nom_fichier)\n",
    "    with open(chemin_complet, mode='w', newline='', encoding='utf-8') as fichier:\n",
    "        ecrivain = csv.writer(fichier)\n",
    "        ecrivain.writerow([\"ID\", \"Nom\", \"Domaine\"])\n",
    "        k = 0\n",
    "        for prof in professeurs:\n",
    "            k += 1\n",
    "            ecrivain.writerow([k, prof[\"nom\"], prof[\"domaine\"]])\n",
    "\n",
    "\n",
    "# Générer les professeurs\n",
    "n_professeurs = 10\n",
    "professeurs_generees = generer_professeurs(n_professeurs)\n",
    "\n",
    "# Enregistrer dans un fichier CSV\n",
    "dossier = \"exemplesEDT\"\n",
    "nom_fichier_csv_prof = \"professeurs.csv\"\n",
    "enregistrer_csv_professeurs(professeurs_generees, dossier, nom_fichier_csv_prof)\n"
   ],
   "metadata": {
    "collapsed": false,
    "ExecuteTime": {
     "end_time": "2023-11-21T13:21:39.581609Z",
     "start_time": "2023-11-21T13:21:39.574958Z"
    }
   },
   "id": "4345c808985a2f99"
  },
  {
   "cell_type": "markdown",
   "source": [
    "## Générateur de matières\n",
    "\n",
    "Avec son nom LettreLettreChiffreChiffre, le domaine, l'ID du professeur, la durée d'un CM entre 1 et 2, la durée d'un TD entre 0 et 2, la durée d'un TP entre 0 et 3\n",
    "\n",
    "Le domaine peut etre [\"Informatique\", \"Mathématiques\", \"Physique\", \"Chimie\", \"Histoire\", \"Biologie\", \"Français\", \"Anglais\", \"Allemand\", \"Espagnol\"] et il doit corresponde à un professeur du fichier professeur s'il aucun prof correspond on met none "
   ],
   "metadata": {
    "collapsed": false
   },
   "id": "135002bda7d6e224"
  },
  {
   "cell_type": "code",
   "execution_count": 4,
   "outputs": [],
   "source": [
    "def lire_professeurs(fichier_csv):\n",
    "    professeurs = []\n",
    "    with open(fichier_csv, mode='r', encoding='utf-8') as fichier:\n",
    "        lecteur = csv.DictReader(fichier)\n",
    "        for ligne in lecteur:\n",
    "            professeurs.append(ligne)\n",
    "    return professeurs\n",
    "\n",
    "\n",
    "def trouver_professeur(domaine, professeurs):\n",
    "    profs_domaine = [prof for prof in professeurs if prof['Domaine'] == domaine]\n",
    "    return random.choice(profs_domaine)['Nom'] if profs_domaine else \"None\"\n",
    "\n",
    "\n",
    "def generer_uvs(n, professeurs):\n",
    "    domaines = [\"Informatique\", \"Mathématiques\", \"Physique\", \"Chimie\", \"Histoire\", \"Biologie\", \"Français\", \"Anglais\",\n",
    "                \"Allemand\", \"Espagnol\"]\n",
    "    uvs = []\n",
    "    for _ in range(n):\n",
    "        nom_uv = random.choice(string.ascii_uppercase) + random.choice(string.ascii_uppercase) + str(\n",
    "            random.randint(10, 99))\n",
    "        domaine = random.choice(domaines)\n",
    "        id_prof = trouver_professeur(domaine, professeurs)\n",
    "        duree_cm = random.randint(1, 2)\n",
    "        duree_td = random.randint(0, 2)\n",
    "        duree_tp = random.randint(0, 3)\n",
    "        uvs.append({\"nom\": nom_uv, \"domaine\": domaine, \"id_prof\": id_prof, \"duree_cm\": duree_cm, \"duree_td\": duree_td,\n",
    "                    \"duree_tp\": duree_tp})\n",
    "    return uvs\n",
    "\n",
    "\n",
    "# Chemin vers le fichier CSV des professeurs\n",
    "fichier_csv_prof = \"exemplesEDT/professeurs.csv\"\n",
    "\n",
    "# Lire les données des professeurs\n",
    "professeurs = lire_professeurs(fichier_csv_prof)\n",
    "\n",
    "# Générer les UVs\n",
    "n_uvs = 10  # Nombre d'UVs à générer\n",
    "uvs_generees = generer_uvs(n_uvs, professeurs)\n",
    "\n",
    "\n",
    "# Afficher les UVs générées (ou les enregistrer dans un fichier CSV si nécessaire)\n",
    "#for uv in uvs_generees:\n",
    "#    print(uv)\n",
    "\n",
    "def enregistrer_csv_uvs(uvs, chemin_dossier, nom_fichier):\n",
    "    os.makedirs(chemin_dossier, exist_ok=True)\n",
    "    chemin_complet = os.path.join(chemin_dossier, nom_fichier)\n",
    "    with open(chemin_complet, mode='w', newline='', encoding='utf-8') as fichier:\n",
    "        ecrivain = csv.writer(fichier)\n",
    "        ecrivain.writerow([\"ID\", \"Nom\", \"Domaine\", \"ID Professeur\", \"Durée CM\", \"Durée TD\", \"Durée TP\"])\n",
    "        k = 0\n",
    "        for uv in uvs:\n",
    "            k += 1\n",
    "            ecrivain.writerow(\n",
    "                [k, uv[\"nom\"], uv[\"domaine\"], uv[\"id_prof\"], uv[\"duree_cm\"], uv[\"duree_td\"], uv[\"duree_tp\"]])\n",
    "\n",
    "\n",
    "# Nom du dossier et du fichier CSV\n",
    "dossier = \"exemplesEDT\"\n",
    "nom_fichier_csv = \"uvs.csv\"\n",
    "\n",
    "# Enregistrer dans un fichier CSV\n",
    "enregistrer_csv_uvs(uvs_generees, dossier, nom_fichier_csv)"
   ],
   "metadata": {
    "collapsed": false,
    "ExecuteTime": {
     "end_time": "2023-11-21T13:21:39.591299Z",
     "start_time": "2023-11-21T13:21:39.581058Z"
    }
   },
   "id": "dfb6befb2866274b"
  },
  {
   "cell_type": "markdown",
   "source": [
    "## Création d'un emploi du temps aléatoire \n",
    "\n",
    "De la forme \n",
    "\n",
    "![edt](images/table.png)"
   ],
   "metadata": {
    "collapsed": false
   },
   "id": "aaca2c6c4e4a4f8b"
  },
  {
   "cell_type": "code",
   "execution_count": 5,
   "outputs": [],
   "source": [
    "def lire_csv_chemin(chemin_fichier_csv):\n",
    "    with open(chemin_fichier_csv, mode='r', encoding='utf-8') as fichier_csv:\n",
    "        lecteur_csv = csv.DictReader(fichier_csv)\n",
    "        # Conversion des lignes en liste de dictionnaires\n",
    "        return [ligne for ligne in lecteur_csv]"
   ],
   "metadata": {
    "collapsed": false,
    "ExecuteTime": {
     "end_time": "2023-11-21T13:21:39.591744Z",
     "start_time": "2023-11-21T13:21:39.587084Z"
    }
   },
   "id": "2ff5a8ea95a7def0"
  },
  {
   "cell_type": "code",
   "execution_count": 6,
   "outputs": [
    {
     "name": "stdout",
     "output_type": "stream",
     "text": [
      "Mardi 19h\n"
     ]
    }
   ],
   "source": [
    "## StartTime is the hour and day of course start\n",
    "\n",
    "def create_start_time():\n",
    "    days = [\"Lundi\", \"Mardi\", \"Mercredi\", \"Jeudi\", \"Vendredi\", \"Samedi\"]\n",
    "    hour = random.randint(8, 20)\n",
    "    day = random.choice(days)\n",
    "    return day + \" \" + str(hour) + \"h\"\n",
    "\n",
    "print(create_start_time())"
   ],
   "metadata": {
    "collapsed": false,
    "ExecuteTime": {
     "end_time": "2023-11-21T13:21:39.592137Z",
     "start_time": "2023-11-21T13:21:39.590095Z"
    }
   },
   "id": "1b044378f1f967c6"
  },
  {
   "cell_type": "code",
   "execution_count": 7,
   "outputs": [
    {
     "name": "stdout",
     "output_type": "stream",
     "text": [
      "E415\n"
     ]
    }
   ],
   "source": [
    "## Select a random room from the list of rooms with the same type as the course type CM = TD \n",
    "\n",
    "def select_room(type_room, rooms):\n",
    "    rooms_type = [room for room in rooms if room['Type'] == type_room]\n",
    "    return random.choice(rooms_type)['Numéro de Salle']\n",
    "\n",
    "print(select_room(\"CM\", lire_csv_chemin(\"exemplesEDT/salles.csv\")))"
   ],
   "metadata": {
    "collapsed": false,
    "ExecuteTime": {
     "end_time": "2023-11-21T13:21:39.600474Z",
     "start_time": "2023-11-21T13:21:39.592897Z"
    }
   },
   "id": "6b2f445f92826e2e"
  },
  {
   "cell_type": "code",
   "execution_count": 8,
   "outputs": [],
   "source": [
    "# Concert TD to CM\n",
    "\n",
    "def convert_td_cm(type_course):\n",
    "    if type_course == \"TD\":\n",
    "        return \"CM\"\n",
    "    else:\n",
    "        return type_course"
   ],
   "metadata": {
    "collapsed": false,
    "ExecuteTime": {
     "end_time": "2023-11-21T13:21:39.600650Z",
     "start_time": "2023-11-21T13:21:39.595856Z"
    }
   },
   "id": "32dbc60c67872f11"
  },
  {
   "cell_type": "code",
   "execution_count": 9,
   "outputs": [
    {
     "name": "stdout",
     "output_type": "stream",
     "text": [
      "[{'Classroom': 'Z144', 'Start Time': 'Jeudi 18h', 'Duration': '1', 'Teacher': 'None', 'UV': 'PV31', 'Type': 'CM'}, {'Classroom': 'W339', 'Start Time': 'Mardi 20h', 'Duration': '3', 'Teacher': 'None', 'UV': 'PV31', 'Type': 'TP'}, {'Classroom': 'Z144', 'Start Time': 'Jeudi 19h', 'Duration': '2', 'Teacher': 'Barnes', 'UV': 'PR95', 'Type': 'CM'}, {'Classroom': 'F367', 'Start Time': 'Mardi 13h', 'Duration': '2', 'Teacher': 'Barnes', 'UV': 'PR95', 'Type': 'TD'}, {'Classroom': 'Z228', 'Start Time': 'Mardi 17h', 'Duration': '2', 'Teacher': 'Barnes', 'UV': 'PR95', 'Type': 'TP'}, {'Classroom': 'E415', 'Start Time': 'Jeudi 19h', 'Duration': '2', 'Teacher': 'None', 'UV': 'KH83', 'Type': 'CM'}, {'Classroom': 'E415', 'Start Time': 'Mercredi 17h', 'Duration': '1', 'Teacher': 'None', 'UV': 'KH83', 'Type': 'TD'}, {'Classroom': 'T479', 'Start Time': 'Jeudi 18h', 'Duration': '1', 'Teacher': 'None', 'UV': 'KH83', 'Type': 'TP'}, {'Classroom': 'Z144', 'Start Time': 'Mercredi 11h', 'Duration': '1', 'Teacher': 'Barnes', 'UV': 'IL11', 'Type': 'CM'}, {'Classroom': 'F367', 'Start Time': 'Vendredi 9h', 'Duration': '1', 'Teacher': 'James', 'UV': 'HL67', 'Type': 'CM'}, {'Classroom': 'H463', 'Start Time': 'Mercredi 12h', 'Duration': '3', 'Teacher': 'James', 'UV': 'HL67', 'Type': 'TP'}, {'Classroom': 'Z144', 'Start Time': 'Lundi 10h', 'Duration': '2', 'Teacher': 'None', 'UV': 'GQ15', 'Type': 'CM'}, {'Classroom': 'M365', 'Start Time': 'Mercredi 8h', 'Duration': '2', 'Teacher': 'None', 'UV': 'GQ15', 'Type': 'TP'}, {'Classroom': 'E415', 'Start Time': 'Lundi 8h', 'Duration': '2', 'Teacher': 'None', 'UV': 'VB93', 'Type': 'CM'}, {'Classroom': 'R443', 'Start Time': 'Lundi 18h', 'Duration': '1', 'Teacher': 'None', 'UV': 'VB93', 'Type': 'TP'}, {'Classroom': 'Z144', 'Start Time': 'Samedi 8h', 'Duration': '2', 'Teacher': 'Ward', 'UV': 'GT39', 'Type': 'CM'}, {'Classroom': 'E415', 'Start Time': 'Jeudi 8h', 'Duration': '1', 'Teacher': 'None', 'UV': 'XK33', 'Type': 'CM'}, {'Classroom': 'Z144', 'Start Time': 'Lundi 16h', 'Duration': '1', 'Teacher': 'None', 'UV': 'XK33', 'Type': 'TD'}, {'Classroom': 'E415', 'Start Time': 'Mercredi 11h', 'Duration': '2', 'Teacher': 'Bennett', 'UV': 'FO49', 'Type': 'CM'}, {'Classroom': 'H463', 'Start Time': 'Mardi 20h', 'Duration': '3', 'Teacher': 'Bennett', 'UV': 'FO49', 'Type': 'TP'}]\n"
     ]
    }
   ],
   "source": [
    "# Generate a random schedule\n",
    "\n",
    "def generate_schedule(uvs, rooms):\n",
    "    schedule = []\n",
    "    for uv in uvs:\n",
    "        if uv['Durée CM'] != \"0\":\n",
    "            start_time = create_start_time()\n",
    "            duration = uv['Durée CM']\n",
    "            teacher = uv['ID Professeur']\n",
    "            type_course = \"CM\"\n",
    "            room = select_room(convert_td_cm(type_course), rooms)\n",
    "            \n",
    "            schedule.append({\"Classroom\" : room, \"Start Time\" : start_time, \"Duration\" : duration, \"Teacher\" : teacher, \"UV\" : uv['Nom'], \"Type\" : type_course})\n",
    "            \n",
    "        if uv['Durée TD'] != \"0\":\n",
    "            start_time = create_start_time()\n",
    "            duration = uv['Durée TD']\n",
    "            teacher = uv['ID Professeur']\n",
    "            type_course = \"TD\"\n",
    "            room = select_room(convert_td_cm(type_course), rooms)\n",
    "            \n",
    "            schedule.append({\"Classroom\" : room, \"Start Time\" : start_time, \"Duration\" : duration, \"Teacher\" : teacher, \"UV\" : uv['Nom'], \"Type\" : type_course})\n",
    "            \n",
    "        if uv['Durée TP'] != \"0\":\n",
    "            start_time = create_start_time()\n",
    "            duration = uv['Durée TP']\n",
    "            teacher = uv['ID Professeur']\n",
    "            type_course = \"TP\"\n",
    "            room = select_room(convert_td_cm(type_course), rooms)\n",
    "            \n",
    "            schedule.append({\"Classroom\" : room, \"Start Time\" : start_time, \"Duration\" : duration, \"Teacher\" : teacher, \"UV\" : uv['Nom'], \"Type\" : type_course})\n",
    "            \n",
    "    return schedule\n",
    "\n",
    "gene = generate_schedule(lire_csv_chemin(\"exemplesEDT/uvs.csv\"), lire_csv_chemin(\"exemplesEDT/salles.csv\"))\n",
    "\n",
    "def enregistrer_csv_schedule(schedule, chemin_dossier, nom_fichier):\n",
    "    os.makedirs(chemin_dossier, exist_ok=True)\n",
    "    chemin_complet = os.path.join(chemin_dossier, nom_fichier)\n",
    "    with open(chemin_complet, mode='w', newline='', encoding='utf-8') as fichier:\n",
    "        ecrivain = csv.writer(fichier)\n",
    "        ecrivain.writerow([\"Classroom\", \"Start Time\", \"Duration\", \"Teacher\", \"UV\", \"Type\"])\n",
    "        for cours in schedule:\n",
    "            ecrivain.writerow([cours[\"Classroom\"], cours[\"Start Time\"], cours[\"Duration\"], cours[\"Teacher\"], cours[\"UV\"], cours[\"Type\"]])\n",
    "\n",
    "enregistrer_csv_schedule(gene, \"exemplesEDT\", \"schedule.csv\")\n",
    "\n",
    "print(gene)"
   ],
   "metadata": {
    "collapsed": false,
    "ExecuteTime": {
     "end_time": "2023-11-21T13:21:39.616840Z",
     "start_time": "2023-11-21T13:21:39.601256Z"
    }
   },
   "id": "a6276ca447539dd6"
  },
  {
   "cell_type": "code",
   "execution_count": 10,
   "outputs": [
    {
     "name": "stdout",
     "output_type": "stream",
     "text": [
      "   Classroom    Start Time  Duration  Teacher    UV Type  Start Time Numeric\n",
      "13      E415      Lundi 8h         2      NaN  VB93   CM                 108\n",
      "11      Z144     Lundi 10h         2      NaN  GQ15   CM                 110\n",
      "17      Z144     Lundi 16h         1      NaN  XK33   TD                 116\n",
      "14      R443     Lundi 18h         1      NaN  VB93   TP                 118\n",
      "3       F367     Mardi 13h         2   Barnes  PR95   TD                 213\n",
      "4       Z228     Mardi 17h         2   Barnes  PR95   TP                 217\n",
      "19      H463     Mardi 20h         3  Bennett  FO49   TP                 220\n",
      "1       W339     Mardi 20h         3      NaN  PV31   TP                 220\n",
      "12      M365   Mercredi 8h         2      NaN  GQ15   TP                 308\n",
      "8       Z144  Mercredi 11h         1   Barnes  IL11   CM                 311\n",
      "18      E415  Mercredi 11h         2  Bennett  FO49   CM                 311\n",
      "10      H463  Mercredi 12h         3    James  HL67   TP                 312\n",
      "6       E415  Mercredi 17h         1      NaN  KH83   TD                 317\n",
      "16      E415      Jeudi 8h         1      NaN  XK33   CM                 408\n",
      "0       Z144     Jeudi 18h         1      NaN  PV31   CM                 418\n",
      "7       T479     Jeudi 18h         1      NaN  KH83   TP                 418\n",
      "5       E415     Jeudi 19h         2      NaN  KH83   CM                 419\n",
      "2       Z144     Jeudi 19h         2   Barnes  PR95   CM                 419\n",
      "9       F367   Vendredi 9h         1    James  HL67   CM                 509\n",
      "15      Z144     Samedi 8h         2     Ward  GT39   CM                 608\n"
     ]
    }
   ],
   "source": [
    "# Chemin du fichier\n",
    "file_path = 'exemplesEDT/schedule.csv'\n",
    "\n",
    "# Importer le fichier CSV\n",
    "df = pd.read_csv(file_path)\n",
    "\n",
    "\n",
    "# Fonction pour convertir le jour et l'heure en un format sortable\n",
    "def convert_day_time(day_time_str):\n",
    "    day_map = {\n",
    "        'Lundi': 1, 'Mardi': 2, 'Mercredi': 3, 'Jeudi': 4, 'Vendredi': 5, 'Samedi': 6, 'Dimanche': 7\n",
    "    }\n",
    "    day, time = day_time_str.split()\n",
    "    day_number = day_map[day]\n",
    "    hour = int(time[:-1])  # Enlever le 'h' et convertir en entier\n",
    "    return day_number * 100 + hour  # Format : JourHeure (e.g., Lundi 9h -> 109)\n",
    "\n",
    "# Appliquer la conversion et trier\n",
    "df['Start Time Numeric'] = df['Start Time'].apply(convert_day_time)\n",
    "df_sorted = df.sort_values(by='Start Time Numeric')\n",
    "\n",
    "df_sorted.drop(columns='Start Time Numeric')  # Enlever la colonne ajoutée pour le tri\n",
    "\n",
    "print(df_sorted)\n",
    "\n",
    "## Enregistrer dans un fichier CSV\n",
    "\n",
    "df_sorted.to_csv('exemplesEDT/schedule_sorted.csv', index=False)\n"
   ],
   "metadata": {
    "collapsed": false,
    "ExecuteTime": {
     "end_time": "2023-11-21T13:21:39.667689Z",
     "start_time": "2023-11-21T13:21:39.605783Z"
    }
   },
   "id": "6ad76ca0adb623a1"
  }
 ],
 "metadata": {
  "kernelspec": {
   "display_name": "Python 3",
   "language": "python",
   "name": "python3"
  },
  "language_info": {
   "codemirror_mode": {
    "name": "ipython",
    "version": 2
   },
   "file_extension": ".py",
   "mimetype": "text/x-python",
   "name": "python",
   "nbconvert_exporter": "python",
   "pygments_lexer": "ipython2",
   "version": "2.7.6"
  }
 },
 "nbformat": 4,
 "nbformat_minor": 5
}
